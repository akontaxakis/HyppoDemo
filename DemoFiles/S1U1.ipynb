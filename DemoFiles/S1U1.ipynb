{
 "cells": [
  {
   "cell_type": "code",
   "execution_count": null,
   "metadata": {
    "collapsed": true
   },
   "outputs": [],
   "source": []
  },
  {
   "cell_type": "code",
   "execution_count": null,
   "outputs": [],
   "source": [
    "Users can add (raw dataset, and operators/pipelines)\n",
    "user1_pipe = Pipeline([('scaler', StandardScaler()), ('pca', GPU__PCA()), ('svc', SVC()), ('F1', F1Sore())])\n",
    "History.addDataset(\"dataset_path\", dataset_id, split_ratio)\n",
    "History.add_and_execute_pipeline(dataset_id, user1_pipe)\n"
   ],
   "metadata": {
    "collapsed": false,
    "pycharm": {
     "name": "#%%\n"
    }
   }
  },
  {
   "cell_type": "code",
   "execution_count": null,
   "outputs": [],
   "source": [
    "History.visualize()\n",
    "\tHistory.get_dataset_ids()\n",
    "\tHistory.most_used_operator(dataset_id)\n",
    "\tHistory.top_performing_model(\"F1\", dataset_id)"
   ],
   "metadata": {
    "collapsed": false,
    "pycharm": {
     "name": "#%%\n"
    }
   }
  },
  {
   "cell_type": "code",
   "execution_count": null,
   "outputs": [],
   "source": [
    "History.all_operators(dataset_id)\n",
    "History.all_operators(dataset_id = any)\n",
    "History.top_implementation_for(logical_operator, metric)\n",
    "History.sort_implementations_for(logical_operator, metric)"
   ],
   "metadata": {
    "collapsed": false,
    "pycharm": {
     "name": "#%%\n"
    }
   }
  }
 ],
 "metadata": {
  "kernelspec": {
   "display_name": "Python 3",
   "language": "python",
   "name": "python3"
  },
  "language_info": {
   "codemirror_mode": {
    "name": "ipython",
    "version": 2
   },
   "file_extension": ".py",
   "mimetype": "text/x-python",
   "name": "python",
   "nbconvert_exporter": "python",
   "pygments_lexer": "ipython2",
   "version": "2.7.6"
  }
 },
 "nbformat": 4,
 "nbformat_minor": 0
}